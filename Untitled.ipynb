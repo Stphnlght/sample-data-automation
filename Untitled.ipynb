{
 "cells": [
  {
   "cell_type": "code",
   "execution_count": 2,
   "id": "474df9ad",
   "metadata": {},
   "outputs": [],
   "source": [
    "import cv2\n",
    "import numpy as np\n",
    "import os\n",
    "from pytesseract import pytesseract as pt\n",
    "from PIL import Image\n",
    "import sqlite3"
   ]
  },
  {
   "cell_type": "code",
   "execution_count": 12,
   "id": "70e45e96",
   "metadata": {},
   "outputs": [
    {
     "name": "stdout",
     "output_type": "stream",
     "text": [
      "001.png\n",
      "002.png\n",
      "003.png\n",
      "004.png\n",
      "005.png\n"
     ]
    }
   ],
   "source": [
    "path =\"images\"\n",
    "  \n",
    "# link to the file in which output needs to be kept\n",
    "fullTempPath =\"NewText.txt\"\n",
    "data = []\n",
    "# iterating the images inside the folder\n",
    "for imageName in os.listdir(path):\n",
    "    inputPath = os.path.join(path, imageName)\n",
    "    \n",
    "    \n",
    "    # pre-processing\n",
    "    img = cv2.imread(inputPath)\n",
    "\n",
    "    img = cv2.resize(img, None, fx=1.2, fy=1.2, interpolation=cv2.INTER_CUBIC)\n",
    "    \n",
    "\n",
    "\n",
    "    img = cv2.cvtColor(img, cv2.COLOR_BGR2GRAY)\n",
    "\n",
    "    kernel = np.ones((1,1), np.uint8)\n",
    "    img = cv2.dilate(img, kernel, iterations=1)\n",
    "    img = cv2.erode(img, kernel, iterations=1)\n",
    "    \n",
    "    path_to_tesseract = r\"C:\\Program Files\\Tesseract-OCR\\tesseract.exe\"\n",
    "    pt.tesseract_cmd = path_to_tesseract\n",
    "\n",
    "\n",
    "    # applying ocr using pytesseract for python\n",
    "    text = pt.image_to_string(img,)\n",
    "    textz = text.replace(\"\\n\", \" \")\n",
    "    textx = textz.split(\"-\")\n",
    "    taxt = tuple(textx)\n",
    "    data.append(taxt)\n",
    "\n",
    "    # saving the  text for appending it to the output.txt file\n",
    "    # a + parameter used for creating the file if not present\n",
    "    # and if present then append the text content\n",
    "    file1 = open(fullTempPath, \"a+\")\n",
    "\n",
    "    # providing the name of the image\n",
    "    file1.write(imageName+\"\\n\")\n",
    "\n",
    "    # providing the content in the image\n",
    "    for i in textx:\n",
    "        file1 = open(fullTempPath, \"a+\")\n",
    "        file1.write(i + \"\\n\")\n",
    "        file1.close()\n",
    "    print(imageName)\n",
    "    # print(taxt)"
   ]
  },
  {
   "cell_type": "code",
   "execution_count": 13,
   "id": "c337f42b",
   "metadata": {
    "collapsed": true
   },
   "outputs": [
    {
     "data": {
      "text/plain": [
       "('aqF! 0BLC!025!btBvSnEpt6j ',\n",
       " ' WHITTINGHAM D. MAULDIN ',\n",
       " ' MLAMONTAIN@STNY.RR.COM ',\n",
       " ' 1095229623 ',\n",
       " ' F ',\n",
       " ' NmUG6TRuck@@#%&?~: ',\n",
       " ' AHP!btBvSnEpt6 ',\n",
       " ' JAWYS30) %&#il ',\n",
       " '  PALOS COMMUNITY HOSPITAL ',\n",
       " ' Thousand Oaks ',\n",
       " ' 52710 ',\n",
       " ' D ',\n",
       " '  2604 SOUTH MAIN ',\n",
       " ' Cedar Rapids ',\n",
       " ' 46220 ',\n",
       " '  7900000 ',\n",
       " ' KG82542663 ',\n",
       " ' 72766 ',\n",
       " ' N ',\n",
       " ' YMI%W3vP4thgQr ')"
      ]
     },
     "execution_count": 13,
     "metadata": {},
     "output_type": "execute_result"
    }
   ],
   "source": [
    "data[3]"
   ]
  },
  {
   "cell_type": "code",
   "execution_count": 14,
   "id": "266144ed",
   "metadata": {},
   "outputs": [],
   "source": [
    "data1 = [i for i in data if len(i) == 20]"
   ]
  },
  {
   "cell_type": "code",
   "execution_count": 15,
   "id": "6aa7b40f",
   "metadata": {},
   "outputs": [],
   "source": [
    "db = sqlite3.connect(\"test.db\")\n",
    "# db.execute(\"drop table if exists clients\")"
   ]
  },
  {
   "cell_type": "code",
   "execution_count": 16,
   "id": "fb053235",
   "metadata": {},
   "outputs": [
    {
     "data": {
      "text/plain": [
       "<sqlite3.Cursor at 0x1c1d533a180>"
      ]
     },
     "execution_count": 16,
     "metadata": {},
     "output_type": "execute_result"
    }
   ],
   "source": [
    "db.execute(\"drop table if exists clients\")\n",
    "db.execute(\"create table clients(TBC_NO, NAME, EMAIL, MOBILE_NO, GENDER, LICENSE_NO,\\\n",
    "GIR_NO, PAN_NO, HOME_ADDRESS, HOME_CITY, HOME_PIN_NO, HOME_STATE, OFFICE_ADRESS, OFFICE_CITY,\\\n",
    "OFFICE_PIN_NO, LOAN_APPROVAL_LIMIT, MRN_NO, AF, NRI, CP)\")"
   ]
  },
  {
   "cell_type": "code",
   "execution_count": 17,
   "id": "e2527552",
   "metadata": {},
   "outputs": [
    {
     "data": {
      "text/plain": [
       "<sqlite3.Cursor at 0x1c1d533a880>"
      ]
     },
     "execution_count": 17,
     "metadata": {},
     "output_type": "execute_result"
    }
   ],
   "source": [
    "query = \"insert into clients(TBC_NO, NAME, EMAIL, MOBILE_NO, GENDER, LICENSE_NO, GIR_NO,PAN_NO,\\\n",
    "HOME_ADDRESS, HOME_CITY, HOME_PIN_NO, HOME_STATE, OFFICE_ADRESS,OFFICE_CITY, OFFICE_PIN_NO,\\\n",
    "LOAN_APPROVAL_LIMIT, MRN_NO, AF, NRI, CP) values(?,?,?,?,?,?,?,?,?,?,?,?,?,?,?,?,?,?,?,?)\"\n",
    "db. executemany(query, data1)"
   ]
  },
  {
   "cell_type": "code",
   "execution_count": 18,
   "id": "cfb46131",
   "metadata": {},
   "outputs": [],
   "source": [
    "db.commit()"
   ]
  },
  {
   "cell_type": "code",
   "execution_count": 19,
   "id": "51d3a72d",
   "metadata": {},
   "outputs": [],
   "source": [
    "db.close()"
   ]
  },
  {
   "cell_type": "code",
   "execution_count": null,
   "id": "b82a43e3",
   "metadata": {},
   "outputs": [],
   "source": []
  }
 ],
 "metadata": {
  "kernelspec": {
   "display_name": "Python 3",
   "language": "python",
   "name": "python3"
  },
  "language_info": {
   "codemirror_mode": {
    "name": "ipython",
    "version": 3
   },
   "file_extension": ".py",
   "mimetype": "text/x-python",
   "name": "python",
   "nbconvert_exporter": "python",
   "pygments_lexer": "ipython3",
   "version": "3.8.8"
  }
 },
 "nbformat": 4,
 "nbformat_minor": 5
}
